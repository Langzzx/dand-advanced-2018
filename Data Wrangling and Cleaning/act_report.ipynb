{
 "cells": [
  {
   "cell_type": "markdown",
   "metadata": {},
   "source": [
    "## Data Analysis and Visualizations"
   ]
  },
  {
   "cell_type": "code",
   "execution_count": 215,
   "metadata": {},
   "outputs": [
    {
     "data": {
      "text/html": [
       "<div>\n",
       "<style>\n",
       "    .dataframe thead tr:only-child th {\n",
       "        text-align: right;\n",
       "    }\n",
       "\n",
       "    .dataframe thead th {\n",
       "        text-align: left;\n",
       "    }\n",
       "\n",
       "    .dataframe tbody tr th {\n",
       "        vertical-align: top;\n",
       "    }\n",
       "</style>\n",
       "<table border=\"1\" class=\"dataframe\">\n",
       "  <thead>\n",
       "    <tr style=\"text-align: right;\">\n",
       "      <th></th>\n",
       "      <th>rating_numerator</th>\n",
       "      <th>rating_denominator</th>\n",
       "      <th>Year</th>\n",
       "      <th>Hour</th>\n",
       "      <th>favorite_count</th>\n",
       "      <th>retweet_count</th>\n",
       "      <th>img_num</th>\n",
       "      <th>Frist_pred_conf</th>\n",
       "      <th>Second_pred_conf</th>\n",
       "      <th>Third_pred_conf</th>\n",
       "    </tr>\n",
       "  </thead>\n",
       "  <tbody>\n",
       "    <tr>\n",
       "      <th>count</th>\n",
       "      <td>2073.000000</td>\n",
       "      <td>2073.000000</td>\n",
       "      <td>2073.000000</td>\n",
       "      <td>2073.000000</td>\n",
       "      <td>2073.000000</td>\n",
       "      <td>2073.000000</td>\n",
       "      <td>2073.000000</td>\n",
       "      <td>2073.000000</td>\n",
       "      <td>2.073000e+03</td>\n",
       "      <td>2.073000e+03</td>\n",
       "    </tr>\n",
       "    <tr>\n",
       "      <th>mean</th>\n",
       "      <td>12.250362</td>\n",
       "      <td>10.496382</td>\n",
       "      <td>2015.864930</td>\n",
       "      <td>9.684515</td>\n",
       "      <td>8583.081524</td>\n",
       "      <td>2959.425953</td>\n",
       "      <td>1.203087</td>\n",
       "      <td>0.594555</td>\n",
       "      <td>1.345907e-01</td>\n",
       "      <td>6.034121e-02</td>\n",
       "    </tr>\n",
       "    <tr>\n",
       "      <th>std</th>\n",
       "      <td>40.690796</td>\n",
       "      <td>7.125469</td>\n",
       "      <td>0.698931</td>\n",
       "      <td>8.629875</td>\n",
       "      <td>12281.014912</td>\n",
       "      <td>5029.269674</td>\n",
       "      <td>0.561601</td>\n",
       "      <td>0.271217</td>\n",
       "      <td>1.006855e-01</td>\n",
       "      <td>5.092740e-02</td>\n",
       "    </tr>\n",
       "    <tr>\n",
       "      <th>min</th>\n",
       "      <td>0.000000</td>\n",
       "      <td>7.000000</td>\n",
       "      <td>2015.000000</td>\n",
       "      <td>0.000000</td>\n",
       "      <td>0.000000</td>\n",
       "      <td>15.000000</td>\n",
       "      <td>1.000000</td>\n",
       "      <td>0.044333</td>\n",
       "      <td>1.011300e-08</td>\n",
       "      <td>1.740170e-10</td>\n",
       "    </tr>\n",
       "    <tr>\n",
       "      <th>25%</th>\n",
       "      <td>10.000000</td>\n",
       "      <td>10.000000</td>\n",
       "      <td>2015.000000</td>\n",
       "      <td>1.000000</td>\n",
       "      <td>1665.000000</td>\n",
       "      <td>630.000000</td>\n",
       "      <td>1.000000</td>\n",
       "      <td>0.364095</td>\n",
       "      <td>5.387110e-02</td>\n",
       "      <td>1.619920e-02</td>\n",
       "    </tr>\n",
       "    <tr>\n",
       "      <th>50%</th>\n",
       "      <td>11.000000</td>\n",
       "      <td>10.000000</td>\n",
       "      <td>2016.000000</td>\n",
       "      <td>4.000000</td>\n",
       "      <td>3846.000000</td>\n",
       "      <td>1401.000000</td>\n",
       "      <td>1.000000</td>\n",
       "      <td>0.588230</td>\n",
       "      <td>1.181810e-01</td>\n",
       "      <td>4.947150e-02</td>\n",
       "    </tr>\n",
       "    <tr>\n",
       "      <th>75%</th>\n",
       "      <td>12.000000</td>\n",
       "      <td>10.000000</td>\n",
       "      <td>2016.000000</td>\n",
       "      <td>18.000000</td>\n",
       "      <td>10902.000000</td>\n",
       "      <td>3420.000000</td>\n",
       "      <td>1.000000</td>\n",
       "      <td>0.843911</td>\n",
       "      <td>1.955580e-01</td>\n",
       "      <td>9.193000e-02</td>\n",
       "    </tr>\n",
       "    <tr>\n",
       "      <th>max</th>\n",
       "      <td>1776.000000</td>\n",
       "      <td>170.000000</td>\n",
       "      <td>2017.000000</td>\n",
       "      <td>23.000000</td>\n",
       "      <td>132318.000000</td>\n",
       "      <td>79116.000000</td>\n",
       "      <td>4.000000</td>\n",
       "      <td>1.000000</td>\n",
       "      <td>4.880140e-01</td>\n",
       "      <td>2.734190e-01</td>\n",
       "    </tr>\n",
       "  </tbody>\n",
       "</table>\n",
       "</div>"
      ],
      "text/plain": [
       "       rating_numerator  rating_denominator         Year         Hour  \\\n",
       "count       2073.000000         2073.000000  2073.000000  2073.000000   \n",
       "mean          12.250362           10.496382  2015.864930     9.684515   \n",
       "std           40.690796            7.125469     0.698931     8.629875   \n",
       "min            0.000000            7.000000  2015.000000     0.000000   \n",
       "25%           10.000000           10.000000  2015.000000     1.000000   \n",
       "50%           11.000000           10.000000  2016.000000     4.000000   \n",
       "75%           12.000000           10.000000  2016.000000    18.000000   \n",
       "max         1776.000000          170.000000  2017.000000    23.000000   \n",
       "\n",
       "       favorite_count  retweet_count      img_num  Frist_pred_conf  \\\n",
       "count     2073.000000    2073.000000  2073.000000      2073.000000   \n",
       "mean      8583.081524    2959.425953     1.203087         0.594555   \n",
       "std      12281.014912    5029.269674     0.561601         0.271217   \n",
       "min          0.000000      15.000000     1.000000         0.044333   \n",
       "25%       1665.000000     630.000000     1.000000         0.364095   \n",
       "50%       3846.000000    1401.000000     1.000000         0.588230   \n",
       "75%      10902.000000    3420.000000     1.000000         0.843911   \n",
       "max     132318.000000   79116.000000     4.000000         1.000000   \n",
       "\n",
       "       Second_pred_conf  Third_pred_conf  \n",
       "count      2.073000e+03     2.073000e+03  \n",
       "mean       1.345907e-01     6.034121e-02  \n",
       "std        1.006855e-01     5.092740e-02  \n",
       "min        1.011300e-08     1.740170e-10  \n",
       "25%        5.387110e-02     1.619920e-02  \n",
       "50%        1.181810e-01     4.947150e-02  \n",
       "75%        1.955580e-01     9.193000e-02  \n",
       "max        4.880140e-01     2.734190e-01  "
      ]
     },
     "execution_count": 215,
     "metadata": {},
     "output_type": "execute_result"
    }
   ],
   "source": [
    "twitter_archive_master.describe()"
   ]
  },
  {
   "cell_type": "markdown",
   "metadata": {},
   "source": [
    "## We know:\n",
    "1. 总共2073个有效数据；使用热度变化会是如何呢？\n",
    "2. 平均点赞数为8583，平均转发数为2959， 最大点赞数，转发次数分别为132318，79116， 所以，转发点赞数有什么一般关系呢？\n",
    "3. 评分的分子分母（rating_numerato／rating_denominator）分别是12.250362／10.496382， 一般来说分子大于分母\n",
    "4. 第一次狗狗图片预测平均概率为0.594555，中值为0.588230， 不知道预测率会不会有明显提升趋势呢？"
   ]
  },
  {
   "cell_type": "code",
   "execution_count": 220,
   "metadata": {
    "collapsed": true
   },
   "outputs": [],
   "source": [
    "import matplotlib.pyplot as plt\n",
    "% matplotlib inline"
   ]
  },
  {
   "cell_type": "code",
   "execution_count": 214,
   "metadata": {
    "collapsed": true
   },
   "outputs": [],
   "source": [
    "### 1. This tweep hot trends"
   ]
  },
  {
   "cell_type": "code",
   "execution_count": 218,
   "metadata": {},
   "outputs": [
    {
     "data": {
      "text/plain": [
       "Month      Year\n",
       "November   2015    298\n",
       "December   2015    367\n",
       "January    2016    169\n",
       "February   2016    111\n",
       "March      2016    121\n",
       "April      2016     54\n",
       "May        2016     57\n",
       "June       2016     81\n",
       "July       2016     94\n",
       "August     2016     64\n",
       "September  2016     71\n",
       "October    2016     71\n",
       "November   2016     69\n",
       "December   2016     61\n",
       "January    2017     77\n",
       "February   2017     68\n",
       "March      2017     53\n",
       "April      2017     44\n",
       "May        2017     45\n",
       "June       2017     46\n",
       "July       2017     50\n",
       "August     2017      2\n",
       "Name: tweet_id, dtype: int64"
      ]
     },
     "execution_count": 218,
     "metadata": {},
     "output_type": "execute_result"
    }
   ],
   "source": [
    "tweets_per_month = twitter_archive_master.groupby(['Month', 'Year'], sort=False).count().iloc[::-1, 0]\n",
    "tweets_per_month"
   ]
  },
  {
   "cell_type": "code",
   "execution_count": 229,
   "metadata": {},
   "outputs": [
    {
     "data": {
      "image/png": "[encoded data removed]",
      "text/plain": [
       "<matplotlib.figure.Figure at 0x120589cc0>"
      ]
     },
     "metadata": {},
     "output_type": "display_data"
    }
   ],
   "source": [
    "fig, ax = plt.subplots()\n",
    "tweets_per_month.plot(kind='bar', color='g')\n",
    "#tweets_per_month.plot(kind='line', color='r')\n",
    "ax.set_title('tweets per month')\n",
    "ax.set_ylabel('count')\n",
    "ax.set_xlabel('/M')\n",
    "ax.spines['right'].set_visible(False)\n",
    "ax.spines['top'].set_visible(False)"
   ]
  },
  {
   "cell_type": "markdown",
   "metadata": {},
   "source": [
    "### 2. favorite_count &\tretweet_count"
   ]
  },
  {
   "cell_type": "code",
   "execution_count": 230,
   "metadata": {
    "collapsed": true
   },
   "outputs": [],
   "source": [
    "ratio = twitter_archive_master['favorite_count'] / twitter_archive_master['retweet_count']"
   ]
  },
  {
   "cell_type": "code",
   "execution_count": 231,
   "metadata": {},
   "outputs": [
    {
     "data": {
      "text/plain": [
       "count    2073.000000\n",
       "mean        3.236245\n",
       "std         1.308540\n",
       "min         0.000000\n",
       "25%         2.486004\n",
       "50%         3.148541\n",
       "75%         3.890883\n",
       "max        12.024368\n",
       "dtype: float64"
      ]
     },
     "execution_count": 231,
     "metadata": {},
     "output_type": "execute_result"
    }
   ],
   "source": [
    "ratio.describe()"
   ]
  },
  {
   "cell_type": "code",
   "execution_count": 232,
   "metadata": {},
   "outputs": [
    {
     "data": {
      "text/plain": [
       "0.80698364190817873"
      ]
     },
     "execution_count": 232,
     "metadata": {},
     "output_type": "execute_result"
    }
   ],
   "source": [
    "twitter_archive_master['favorite_count'].corr(twitter_archive_master['retweet_count'])"
   ]
  },
  {
   "cell_type": "markdown",
   "metadata": {},
   "source": [
    "> 从中位数和平均数看，大约3.2次点赞会转发一次, 相关性很高"
   ]
  },
  {
   "cell_type": "markdown",
   "metadata": {},
   "source": [
    "### 3. "
   ]
  },
  {
   "cell_type": "code",
   "execution_count": 238,
   "metadata": {
    "collapsed": true
   },
   "outputs": [],
   "source": [
    "tweets_p1_month = twitter_archive_master.loc[:, ['Month', 'Year', 'Frist_pred_conf']]"
   ]
  },
  {
   "cell_type": "code",
   "execution_count": 244,
   "metadata": {
    "collapsed": true
   },
   "outputs": [],
   "source": [
    "tweets_p1_month['M_Y'] = tweets_p1_month.loc[:, 'Month'].astype(str) + '-' + tweets_p1_month.loc[:, 'Year'].astype(str)"
   ]
  },
  {
   "cell_type": "code",
   "execution_count": 247,
   "metadata": {},
   "outputs": [
    {
     "data": {
      "text/html": [
       "<div>\n",
       "<style>\n",
       "    .dataframe thead tr:only-child th {\n",
       "        text-align: right;\n",
       "    }\n",
       "\n",
       "    .dataframe thead th {\n",
       "        text-align: left;\n",
       "    }\n",
       "\n",
       "    .dataframe tbody tr th {\n",
       "        vertical-align: top;\n",
       "    }\n",
       "</style>\n",
       "<table border=\"1\" class=\"dataframe\">\n",
       "  <thead>\n",
       "    <tr style=\"text-align: right;\">\n",
       "      <th></th>\n",
       "      <th>Frist_pred_conf</th>\n",
       "      <th>M_Y</th>\n",
       "    </tr>\n",
       "  </thead>\n",
       "  <tbody>\n",
       "    <tr>\n",
       "      <th>0</th>\n",
       "      <td>0.097049</td>\n",
       "      <td>August-2017</td>\n",
       "    </tr>\n",
       "    <tr>\n",
       "      <th>1</th>\n",
       "      <td>0.323581</td>\n",
       "      <td>August-2017</td>\n",
       "    </tr>\n",
       "    <tr>\n",
       "      <th>2</th>\n",
       "      <td>0.716012</td>\n",
       "      <td>July-2017</td>\n",
       "    </tr>\n",
       "    <tr>\n",
       "      <th>3</th>\n",
       "      <td>0.170278</td>\n",
       "      <td>July-2017</td>\n",
       "    </tr>\n",
       "    <tr>\n",
       "      <th>4</th>\n",
       "      <td>0.555712</td>\n",
       "      <td>July-2017</td>\n",
       "    </tr>\n",
       "  </tbody>\n",
       "</table>\n",
       "</div>"
      ],
      "text/plain": [
       "   Frist_pred_conf          M_Y\n",
       "0         0.097049  August-2017\n",
       "1         0.323581  August-2017\n",
       "2         0.716012    July-2017\n",
       "3         0.170278    July-2017\n",
       "4         0.555712    July-2017"
      ]
     },
     "execution_count": 247,
     "metadata": {},
     "output_type": "execute_result"
    }
   ],
   "source": [
    "tweets_p1_month = tweets_p1_month.drop(['Month', 'Year'], axis=1)\n",
    "tweets_p1_month.head()"
   ]
  },
  {
   "cell_type": "code",
   "execution_count": 266,
   "metadata": {},
   "outputs": [
    {
     "data": {
      "text/plain": [
       "<matplotlib.axes._subplots.AxesSubplot at 0x11df1fe80>"
      ]
     },
     "execution_count": 266,
     "metadata": {},
     "output_type": "execute_result"
    },
    {
     "data": {
      "image/png": "[encoded data removed]",
      "text/plain": [
       "<matplotlib.figure.Figure at 0x11df92908>"
      ]
     },
     "metadata": {},
     "output_type": "display_data"
    }
   ],
   "source": [
    "tweets_p1_month.groupby('M_Y', sort=False).mean()[::-1].plot(kind='bar')"
   ]
  },
  {
   "cell_type": "code",
   "execution_count": 267,
   "metadata": {
    "collapsed": true
   },
   "outputs": [],
   "source": [
    "## 看来上线后正确率没有明显提高趋势， 没有更新参数或者说2000个tweet图片对训练并没有明显提高"
   ]
  },
  {
   "cell_type": "code",
   "execution_count": 269,
   "metadata": {},
   "outputs": [
    {
     "data": {
      "text/plain": [
       "None        577\n",
       "a            54\n",
       "Charlie      11\n",
       "Cooper       10\n",
       "Tucker       10\n",
       "Oliver       10\n",
       "Lucy         10\n",
       "Penny        10\n",
       "Sadie         8\n",
       "Bo            8\n",
       "Lola          8\n",
       "Winston       8\n",
       "Daisy         7\n",
       "Toby          7\n",
       "Jax           6\n",
       "Milo          6\n",
       "Rusty         6\n",
       "Scout         6\n",
       "Stanley       6\n",
       "Koda          6\n",
       "Bella         6\n",
       "Bailey        6\n",
       "an            6\n",
       "Dave          6\n",
       "Alfie         5\n",
       "Leo           5\n",
       "the           5\n",
       "Chester       5\n",
       "Larry         5\n",
       "Buddy         5\n",
       "           ... \n",
       "Akumi         1\n",
       "Flash         1\n",
       "Yoda          1\n",
       "Travis        1\n",
       "Taz           1\n",
       "Kloey         1\n",
       "Geno          1\n",
       "Carper        1\n",
       "Ike           1\n",
       "Einstein      1\n",
       "Monster       1\n",
       "Obi           1\n",
       "Sweet         1\n",
       "Danny         1\n",
       "Tyrone        1\n",
       "Ed            1\n",
       "Crouton       1\n",
       "Chesney       1\n",
       "Tassy         1\n",
       "Brownie       1\n",
       "Bobby         1\n",
       "Hermione      1\n",
       "Kona          1\n",
       "Ricky         1\n",
       "Pipsy         1\n",
       "Kingsley      1\n",
       "Barney        1\n",
       "Timofy        1\n",
       "Erik          1\n",
       "Rupert        1\n",
       "Name: dog_name, Length: 938, dtype: int64"
      ]
     },
     "execution_count": 269,
     "metadata": {},
     "output_type": "execute_result"
    }
   ],
   "source": [
    "## 如何给狗狗取名字呢，先看看大家喜欢去什么名字\n",
    "twitter_archive_master['dog_name'].value_counts()"
   ]
  },
  {
   "cell_type": "markdown",
   "metadata": {},
   "source": [
    "None or a 肯定大多不是狗狗名字，看来给狗狗取名还是很随便的，没有趋势和潮流的"
   ]
  }
 ],
 "metadata": {
  "kernelspec": {
   "display_name": "Python 3",
   "language": "python",
   "name": "python3"
  },
  "language_info": {
   "codemirror_mode": {
    "name": "ipython",
    "version": 3
   },
   "file_extension": ".py",
   "mimetype": "text/x-python",
   "name": "python",
   "nbconvert_exporter": "python",
   "pygments_lexer": "ipython3",
   "version": "3.6.2"
  }
 },
 "nbformat": 4,
 "nbformat_minor": 2
}
