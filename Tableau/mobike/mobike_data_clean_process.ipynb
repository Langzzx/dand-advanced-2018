{
 "cells": [
  {
   "cell_type": "code",
   "execution_count": 1,
   "metadata": {
    "collapsed": true
   },
   "outputs": [],
   "source": [
    "import pandas as pd\n",
    "import numpy as np"
   ]
  },
  {
   "cell_type": "code",
   "execution_count": 2,
   "metadata": {},
   "outputs": [
    {
     "name": "stdout",
     "output_type": "stream",
     "text": [
      "\u001b[31mMOBIKE 样本数据说明(data_description).pdf\u001b[m\u001b[m\r\n",
      "mobike_shanghai_sample_updated.csv\r\n"
     ]
    }
   ],
   "source": [
    "!ls \"../../../Tableau/Mobike Data\""
   ]
  },
  {
   "cell_type": "code",
   "execution_count": 4,
   "metadata": {},
   "outputs": [],
   "source": [
    "mob = pd.read_csv('../../../Tableau/Mobike Data/mobike_shanghai_sample_updated.csv')"
   ]
  },
  {
   "cell_type": "code",
   "execution_count": 6,
   "metadata": {},
   "outputs": [
    {
     "data": {
      "text/html": [
       "<div>\n",
       "<style>\n",
       "    .dataframe thead tr:only-child th {\n",
       "        text-align: right;\n",
       "    }\n",
       "\n",
       "    .dataframe thead th {\n",
       "        text-align: left;\n",
       "    }\n",
       "\n",
       "    .dataframe tbody tr th {\n",
       "        vertical-align: top;\n",
       "    }\n",
       "</style>\n",
       "<table border=\"1\" class=\"dataframe\">\n",
       "  <thead>\n",
       "    <tr style=\"text-align: right;\">\n",
       "      <th></th>\n",
       "      <th>orderid</th>\n",
       "      <th>bikeid</th>\n",
       "      <th>userid</th>\n",
       "      <th>start_time</th>\n",
       "      <th>start_location_x</th>\n",
       "      <th>start_location_y</th>\n",
       "      <th>end_time</th>\n",
       "      <th>end_location_x</th>\n",
       "      <th>end_location_y</th>\n",
       "      <th>track</th>\n",
       "    </tr>\n",
       "  </thead>\n",
       "  <tbody>\n",
       "    <tr>\n",
       "      <th>0</th>\n",
       "      <td>78387</td>\n",
       "      <td>158357</td>\n",
       "      <td>10080</td>\n",
       "      <td>2016-08-20 06:57</td>\n",
       "      <td>121.348</td>\n",
       "      <td>31.389</td>\n",
       "      <td>2016-08-20 07:04</td>\n",
       "      <td>121.357</td>\n",
       "      <td>31.388</td>\n",
       "      <td>121.347,31.392#121.348,31.389#121.349,31.390#1...</td>\n",
       "    </tr>\n",
       "    <tr>\n",
       "      <th>1</th>\n",
       "      <td>891333</td>\n",
       "      <td>92776</td>\n",
       "      <td>6605</td>\n",
       "      <td>2016-08-29 19:09</td>\n",
       "      <td>121.508</td>\n",
       "      <td>31.279</td>\n",
       "      <td>2016-08-29 19:31</td>\n",
       "      <td>121.489</td>\n",
       "      <td>31.271</td>\n",
       "      <td>121.489,31.270#121.489,31.271#121.490,31.270#1...</td>\n",
       "    </tr>\n",
       "    <tr>\n",
       "      <th>2</th>\n",
       "      <td>1106623</td>\n",
       "      <td>152045</td>\n",
       "      <td>8876</td>\n",
       "      <td>2016-08-13 16:17</td>\n",
       "      <td>121.383</td>\n",
       "      <td>31.254</td>\n",
       "      <td>2016-08-13 16:36</td>\n",
       "      <td>121.405</td>\n",
       "      <td>31.248</td>\n",
       "      <td>121.381,31.251#121.382,31.251#121.382,31.252#1...</td>\n",
       "    </tr>\n",
       "    <tr>\n",
       "      <th>3</th>\n",
       "      <td>1389484</td>\n",
       "      <td>196259</td>\n",
       "      <td>10648</td>\n",
       "      <td>2016-08-23 21:34</td>\n",
       "      <td>121.484</td>\n",
       "      <td>31.320</td>\n",
       "      <td>2016-08-23 21:43</td>\n",
       "      <td>121.471</td>\n",
       "      <td>31.325</td>\n",
       "      <td>121.471,31.325#121.472,31.325#121.473,31.324#1...</td>\n",
       "    </tr>\n",
       "    <tr>\n",
       "      <th>4</th>\n",
       "      <td>188537</td>\n",
       "      <td>78208</td>\n",
       "      <td>11735</td>\n",
       "      <td>2016-08-16 07:32</td>\n",
       "      <td>121.407</td>\n",
       "      <td>31.292</td>\n",
       "      <td>2016-08-16 07:41</td>\n",
       "      <td>121.418</td>\n",
       "      <td>31.288</td>\n",
       "      <td>121.407,31.291#121.407,31.292#121.408,31.291#1...</td>\n",
       "    </tr>\n",
       "  </tbody>\n",
       "</table>\n",
       "</div>"
      ],
      "text/plain": [
       "   orderid  bikeid  userid        start_time  start_location_x  \\\n",
       "0    78387  158357   10080  2016-08-20 06:57           121.348   \n",
       "1   891333   92776    6605  2016-08-29 19:09           121.508   \n",
       "2  1106623  152045    8876  2016-08-13 16:17           121.383   \n",
       "3  1389484  196259   10648  2016-08-23 21:34           121.484   \n",
       "4   188537   78208   11735  2016-08-16 07:32           121.407   \n",
       "\n",
       "   start_location_y          end_time  end_location_x  end_location_y  \\\n",
       "0            31.389  2016-08-20 07:04         121.357          31.388   \n",
       "1            31.279  2016-08-29 19:31         121.489          31.271   \n",
       "2            31.254  2016-08-13 16:36         121.405          31.248   \n",
       "3            31.320  2016-08-23 21:43         121.471          31.325   \n",
       "4            31.292  2016-08-16 07:41         121.418          31.288   \n",
       "\n",
       "                                               track  \n",
       "0  121.347,31.392#121.348,31.389#121.349,31.390#1...  \n",
       "1  121.489,31.270#121.489,31.271#121.490,31.270#1...  \n",
       "2  121.381,31.251#121.382,31.251#121.382,31.252#1...  \n",
       "3  121.471,31.325#121.472,31.325#121.473,31.324#1...  \n",
       "4  121.407,31.291#121.407,31.292#121.408,31.291#1...  "
      ]
     },
     "execution_count": 6,
     "metadata": {},
     "output_type": "execute_result"
    }
   ],
   "source": [
    "mob.head()"
   ]
  },
  {
   "cell_type": "code",
   "execution_count": 7,
   "metadata": {},
   "outputs": [
    {
     "name": "stdout",
     "output_type": "stream",
     "text": [
      "<class 'pandas.core.frame.DataFrame'>\n",
      "RangeIndex: 102361 entries, 0 to 102360\n",
      "Data columns (total 10 columns):\n",
      "orderid             102361 non-null int64\n",
      "bikeid              102361 non-null int64\n",
      "userid              102361 non-null int64\n",
      "start_time          102361 non-null object\n",
      "start_location_x    102361 non-null float64\n",
      "start_location_y    102361 non-null float64\n",
      "end_time            102361 non-null object\n",
      "end_location_x      102361 non-null float64\n",
      "end_location_y      102361 non-null float64\n",
      "track               102361 non-null object\n",
      "dtypes: float64(4), int64(3), object(3)\n",
      "memory usage: 7.8+ MB\n"
     ]
    }
   ],
   "source": [
    "mob.info()"
   ]
  },
  {
   "cell_type": "code",
   "execution_count": 66,
   "metadata": {
    "collapsed": true
   },
   "outputs": [],
   "source": [
    "mob_clean = mob"
   ]
  },
  {
   "cell_type": "code",
   "execution_count": 67,
   "metadata": {},
   "outputs": [
    {
     "data": {
      "text/plain": [
       "79062"
      ]
     },
     "execution_count": 67,
     "metadata": {},
     "output_type": "execute_result"
    }
   ],
   "source": [
    "len(mob_clean.bikeid.unique())"
   ]
  },
  {
   "cell_type": "code",
   "execution_count": 68,
   "metadata": {},
   "outputs": [
    {
     "data": {
      "text/plain": [
       "16887"
      ]
     },
     "execution_count": 68,
     "metadata": {},
     "output_type": "execute_result"
    }
   ],
   "source": [
    "len(mob_clean.userid.unique())"
   ]
  },
  {
   "cell_type": "code",
   "execution_count": 69,
   "metadata": {},
   "outputs": [
    {
     "data": {
      "text/plain": [
       "102361"
      ]
     },
     "execution_count": 69,
     "metadata": {},
     "output_type": "execute_result"
    }
   ],
   "source": [
    "len(mob_clean.orderid.unique())"
   ]
  },
  {
   "cell_type": "code",
   "execution_count": 70,
   "metadata": {},
   "outputs": [
    {
     "data": {
      "text/plain": [
       "1.2946927727606183"
      ]
     },
     "execution_count": 70,
     "metadata": {},
     "output_type": "execute_result"
    }
   ],
   "source": [
    "## every bike ride frequency// very low ride freq for bike\n",
    "\n",
    "mob_clean.bikeid.count() / len(mob_clean.bikeid.unique()) "
   ]
  },
  {
   "cell_type": "code",
   "execution_count": 71,
   "metadata": {
    "collapsed": true
   },
   "outputs": [],
   "source": [
    "mob_clean['ride_duration'] = (pd.to_datetime(mob['end_time']) - \n",
    "                              pd.to_datetime(mob['start_time'])).dt.total_seconds()"
   ]
  },
  {
   "cell_type": "code",
   "execution_count": 72,
   "metadata": {
    "collapsed": true
   },
   "outputs": [],
   "source": [
    "#mob_clean.drop('ride Duration', axis=1)"
   ]
  },
  {
   "cell_type": "code",
   "execution_count": 73,
   "metadata": {},
   "outputs": [
    {
     "data": {
      "text/html": [
       "<div>\n",
       "<style>\n",
       "    .dataframe thead tr:only-child th {\n",
       "        text-align: right;\n",
       "    }\n",
       "\n",
       "    .dataframe thead th {\n",
       "        text-align: left;\n",
       "    }\n",
       "\n",
       "    .dataframe tbody tr th {\n",
       "        vertical-align: top;\n",
       "    }\n",
       "</style>\n",
       "<table border=\"1\" class=\"dataframe\">\n",
       "  <thead>\n",
       "    <tr style=\"text-align: right;\">\n",
       "      <th></th>\n",
       "      <th>orderid</th>\n",
       "      <th>bikeid</th>\n",
       "      <th>userid</th>\n",
       "      <th>start_time</th>\n",
       "      <th>start_location_x</th>\n",
       "      <th>start_location_y</th>\n",
       "      <th>end_time</th>\n",
       "      <th>end_location_x</th>\n",
       "      <th>end_location_y</th>\n",
       "      <th>track</th>\n",
       "      <th>ride_duration</th>\n",
       "      <th>ride_distance</th>\n",
       "      <th>speed</th>\n",
       "    </tr>\n",
       "  </thead>\n",
       "  <tbody>\n",
       "    <tr>\n",
       "      <th>72502</th>\n",
       "      <td>644371</td>\n",
       "      <td>26200</td>\n",
       "      <td>10985</td>\n",
       "      <td>2016-08-10 19:43</td>\n",
       "      <td>121.460</td>\n",
       "      <td>31.207</td>\n",
       "      <td>2016-08-10 19:55</td>\n",
       "      <td>121.452</td>\n",
       "      <td>31.217</td>\n",
       "      <td>121.457,31.208#121.457,31.209#121.457,31.210#1...</td>\n",
       "      <td>720.0</td>\n",
       "      <td>1347.311777</td>\n",
       "      <td>6.736559</td>\n",
       "    </tr>\n",
       "    <tr>\n",
       "      <th>22975</th>\n",
       "      <td>1631913</td>\n",
       "      <td>154877</td>\n",
       "      <td>6602</td>\n",
       "      <td>2016-08-06 20:31</td>\n",
       "      <td>121.405</td>\n",
       "      <td>31.251</td>\n",
       "      <td>2016-08-06 21:15</td>\n",
       "      <td>121.403</td>\n",
       "      <td>31.258</td>\n",
       "      <td>121.403,31.257#121.404,31.258#121.405,31.250#1...</td>\n",
       "      <td>2640.0</td>\n",
       "      <td>801.245817</td>\n",
       "      <td>1.092608</td>\n",
       "    </tr>\n",
       "    <tr>\n",
       "      <th>68808</th>\n",
       "      <td>21149</td>\n",
       "      <td>77850</td>\n",
       "      <td>16155</td>\n",
       "      <td>2016-08-27 02:33</td>\n",
       "      <td>121.405</td>\n",
       "      <td>31.291</td>\n",
       "      <td>2016-08-27 02:51</td>\n",
       "      <td>121.385</td>\n",
       "      <td>31.275</td>\n",
       "      <td>121.384,31.275#121.384,31.276#121.385,31.275#1...</td>\n",
       "      <td>1080.0</td>\n",
       "      <td>2603.351571</td>\n",
       "      <td>8.677839</td>\n",
       "    </tr>\n",
       "    <tr>\n",
       "      <th>12464</th>\n",
       "      <td>503822</td>\n",
       "      <td>214189</td>\n",
       "      <td>5433</td>\n",
       "      <td>2016-08-17 08:14</td>\n",
       "      <td>121.398</td>\n",
       "      <td>31.309</td>\n",
       "      <td>2016-08-17 08:21</td>\n",
       "      <td>121.408</td>\n",
       "      <td>31.314</td>\n",
       "      <td>121.398,31.308#121.398,31.309#121.398,31.310#1...</td>\n",
       "      <td>420.0</td>\n",
       "      <td>1100.729624</td>\n",
       "      <td>9.434825</td>\n",
       "    </tr>\n",
       "    <tr>\n",
       "      <th>81664</th>\n",
       "      <td>701590</td>\n",
       "      <td>86193</td>\n",
       "      <td>8887</td>\n",
       "      <td>2016-08-11 15:18</td>\n",
       "      <td>121.403</td>\n",
       "      <td>31.196</td>\n",
       "      <td>2016-08-11 15:29</td>\n",
       "      <td>121.401</td>\n",
       "      <td>31.183</td>\n",
       "      <td>121.398,31.197#121.399,31.197#121.399,31.198#1...</td>\n",
       "      <td>660.0</td>\n",
       "      <td>1457.999316</td>\n",
       "      <td>7.952724</td>\n",
       "    </tr>\n",
       "  </tbody>\n",
       "</table>\n",
       "</div>"
      ],
      "text/plain": [
       "       orderid  bikeid  userid        start_time  start_location_x  \\\n",
       "72502   644371   26200   10985  2016-08-10 19:43           121.460   \n",
       "22975  1631913  154877    6602  2016-08-06 20:31           121.405   \n",
       "68808    21149   77850   16155  2016-08-27 02:33           121.405   \n",
       "12464   503822  214189    5433  2016-08-17 08:14           121.398   \n",
       "81664   701590   86193    8887  2016-08-11 15:18           121.403   \n",
       "\n",
       "       start_location_y          end_time  end_location_x  end_location_y  \\\n",
       "72502            31.207  2016-08-10 19:55         121.452          31.217   \n",
       "22975            31.251  2016-08-06 21:15         121.403          31.258   \n",
       "68808            31.291  2016-08-27 02:51         121.385          31.275   \n",
       "12464            31.309  2016-08-17 08:21         121.408          31.314   \n",
       "81664            31.196  2016-08-11 15:29         121.401          31.183   \n",
       "\n",
       "                                                   track  ride_duration  \\\n",
       "72502  121.457,31.208#121.457,31.209#121.457,31.210#1...          720.0   \n",
       "22975  121.403,31.257#121.404,31.258#121.405,31.250#1...         2640.0   \n",
       "68808  121.384,31.275#121.384,31.276#121.385,31.275#1...         1080.0   \n",
       "12464  121.398,31.308#121.398,31.309#121.398,31.310#1...          420.0   \n",
       "81664  121.398,31.197#121.399,31.197#121.399,31.198#1...          660.0   \n",
       "\n",
       "       ride_distance     speed  \n",
       "72502    1347.311777  6.736559  \n",
       "22975     801.245817  1.092608  \n",
       "68808    2603.351571  8.677839  \n",
       "12464    1100.729624  9.434825  \n",
       "81664    1457.999316  7.952724  "
      ]
     },
     "execution_count": 73,
     "metadata": {},
     "output_type": "execute_result"
    }
   ],
   "source": [
    "mob_clean.sample(5)"
   ]
  },
  {
   "cell_type": "code",
   "execution_count": 74,
   "metadata": {
    "collapsed": true
   },
   "outputs": [],
   "source": [
    "## calculate ride distance in map"
   ]
  },
  {
   "cell_type": "code",
   "execution_count": 75,
   "metadata": {
    "collapsed": true
   },
   "outputs": [],
   "source": [
    "from numpy import radians, cos, sin, arcsin, sqrt  \n",
    "  \n",
    "def haversine(lon1, lat1, lon2, lat2): # 经度1，纬度1，经度2，纬度2 （十进制度数）  \n",
    "    \"\"\" \n",
    "    Calculate the great circle distance between two points  \n",
    "    on the earth (specified in decimal degrees) \n",
    "    \"\"\"  \n",
    "    # 将十进制度数转化为弧度  \n",
    "    lon1, lat1, lon2, lat2 = map(radians, [lon1, lat1, lon2, lat2])  \n",
    "  \n",
    "    # haversine公式  \n",
    "    dlon = lon2 - lon1   \n",
    "    dlat = lat2 - lat1   \n",
    "    a = sin(dlat/2)**2 + cos(lat1) * cos(lat2) * sin(dlon/2)**2  \n",
    "    c = 2 * arcsin(sqrt(a))   \n",
    "    r = 6371 # 地球平均半径，单位为公里  \n",
    "    return c * r * 1000 "
   ]
  },
  {
   "cell_type": "code",
   "execution_count": 76,
   "metadata": {
    "collapsed": true
   },
   "outputs": [],
   "source": [
    "mob_clean['ride_distance'] = haversine(mob_clean.end_location_x.astype(float), mob_clean.end_location_y.astype(float), \n",
    "                                       mob_clean.start_location_x.astype(float), mob_clean.start_location_y.astype(float))"
   ]
  },
  {
   "cell_type": "code",
   "execution_count": 77,
   "metadata": {},
   "outputs": [
    {
     "data": {
      "text/html": [
       "<div>\n",
       "<style>\n",
       "    .dataframe thead tr:only-child th {\n",
       "        text-align: right;\n",
       "    }\n",
       "\n",
       "    .dataframe thead th {\n",
       "        text-align: left;\n",
       "    }\n",
       "\n",
       "    .dataframe tbody tr th {\n",
       "        vertical-align: top;\n",
       "    }\n",
       "</style>\n",
       "<table border=\"1\" class=\"dataframe\">\n",
       "  <thead>\n",
       "    <tr style=\"text-align: right;\">\n",
       "      <th></th>\n",
       "      <th>orderid</th>\n",
       "      <th>bikeid</th>\n",
       "      <th>userid</th>\n",
       "      <th>start_time</th>\n",
       "      <th>start_location_x</th>\n",
       "      <th>start_location_y</th>\n",
       "      <th>end_time</th>\n",
       "      <th>end_location_x</th>\n",
       "      <th>end_location_y</th>\n",
       "      <th>track</th>\n",
       "      <th>ride_duration</th>\n",
       "      <th>ride_distance</th>\n",
       "      <th>speed</th>\n",
       "    </tr>\n",
       "  </thead>\n",
       "  <tbody>\n",
       "    <tr>\n",
       "      <th>75974</th>\n",
       "      <td>378553</td>\n",
       "      <td>14718</td>\n",
       "      <td>15094</td>\n",
       "      <td>2016-08-20 13:24</td>\n",
       "      <td>121.455</td>\n",
       "      <td>31.204</td>\n",
       "      <td>2016-08-20 13:34</td>\n",
       "      <td>121.451</td>\n",
       "      <td>31.199</td>\n",
       "      <td>121.449,31.201#121.449,31.202#121.450,31.199#1...</td>\n",
       "      <td>600.0</td>\n",
       "      <td>673.679738</td>\n",
       "      <td>4.042078</td>\n",
       "    </tr>\n",
       "  </tbody>\n",
       "</table>\n",
       "</div>"
      ],
      "text/plain": [
       "       orderid  bikeid  userid        start_time  start_location_x  \\\n",
       "75974   378553   14718   15094  2016-08-20 13:24           121.455   \n",
       "\n",
       "       start_location_y          end_time  end_location_x  end_location_y  \\\n",
       "75974            31.204  2016-08-20 13:34         121.451          31.199   \n",
       "\n",
       "                                                   track  ride_duration  \\\n",
       "75974  121.449,31.201#121.449,31.202#121.450,31.199#1...          600.0   \n",
       "\n",
       "       ride_distance     speed  \n",
       "75974     673.679738  4.042078  "
      ]
     },
     "execution_count": 77,
     "metadata": {},
     "output_type": "execute_result"
    }
   ],
   "source": [
    "mob_clean.sample()"
   ]
  },
  {
   "cell_type": "code",
   "execution_count": 78,
   "metadata": {},
   "outputs": [
    {
     "data": {
      "text/plain": [
       "1564.8181552998278"
      ]
     },
     "execution_count": 78,
     "metadata": {},
     "output_type": "execute_result"
    }
   ],
   "source": [
    "mob_clean['ride_distance'].sum() / mob_clean['ride_distance'].count()"
   ]
  },
  {
   "cell_type": "code",
   "execution_count": 79,
   "metadata": {},
   "outputs": [
    {
     "data": {
      "text/plain": [
       "909.640240     35\n",
       "731.263730     32\n",
       "894.616095     29\n",
       "934.084592     28\n",
       "673.436454     28\n",
       "383.896369     27\n",
       "723.092481     26\n",
       "866.810209     25\n",
       "624.770181     25\n",
       "784.145219     25\n",
       "796.258587     25\n",
       "1051.096612    25\n",
       "1011.308334    23\n",
       "1005.252743    23\n",
       "1209.122240    23\n",
       "866.216277     22\n",
       "731.208037     22\n",
       "624.872236     20\n",
       "917.685612     19\n",
       "673.904865     19\n",
       "911.797745     18\n",
       "917.710987     18\n",
       "673.397749     18\n",
       "1135.639709    18\n",
       "768.010627     18\n",
       "1056.629980    18\n",
       "528.337823     18\n",
       "796.093910     17\n",
       "1068.319151    17\n",
       "624.759139     17\n",
       "               ..\n",
       "1608.794616     1\n",
       "2728.867648     1\n",
       "1874.401610     1\n",
       "1312.231080     1\n",
       "292.376296      1\n",
       "2274.215215     1\n",
       "5915.807503     1\n",
       "4033.100160     1\n",
       "346.839241      1\n",
       "2110.553233     1\n",
       "3626.565009     1\n",
       "3627.549172     1\n",
       "1584.487886     1\n",
       "1008.656522     1\n",
       "1608.945900     1\n",
       "3696.009035     1\n",
       "3264.502782     1\n",
       "1347.819105     1\n",
       "1881.633605     1\n",
       "2750.435937     1\n",
       "1695.902078     1\n",
       "4332.327569     1\n",
       "2365.828373     1\n",
       "2457.184666     1\n",
       "3518.580622     1\n",
       "1899.836195     1\n",
       "877.372952      1\n",
       "934.144579      1\n",
       "792.112445      1\n",
       "3601.056038     1\n",
       "Name: ride_distance, Length: 65347, dtype: int64"
      ]
     },
     "execution_count": 79,
     "metadata": {},
     "output_type": "execute_result"
    }
   ],
   "source": [
    "mob_clean['ride_distance'].value_counts()"
   ]
  },
  {
   "cell_type": "code",
   "execution_count": 80,
   "metadata": {},
   "outputs": [
    {
     "data": {
      "text/plain": [
       "95422.239134343763"
      ]
     },
     "execution_count": 80,
     "metadata": {},
     "output_type": "execute_result"
    }
   ],
   "source": [
    "mob_clean['ride_distance'].max()"
   ]
  },
  {
   "cell_type": "code",
   "execution_count": 81,
   "metadata": {},
   "outputs": [
    {
     "data": {
      "text/plain": [
       "146.18453661714719"
      ]
     },
     "execution_count": 81,
     "metadata": {},
     "output_type": "execute_result"
    }
   ],
   "source": [
    "mob_clean['ride_distance'].min()"
   ]
  },
  {
   "cell_type": "code",
   "execution_count": 82,
   "metadata": {},
   "outputs": [
    {
     "data": {
      "text/html": [
       "<div>\n",
       "<style>\n",
       "    .dataframe thead tr:only-child th {\n",
       "        text-align: right;\n",
       "    }\n",
       "\n",
       "    .dataframe thead th {\n",
       "        text-align: left;\n",
       "    }\n",
       "\n",
       "    .dataframe tbody tr th {\n",
       "        vertical-align: top;\n",
       "    }\n",
       "</style>\n",
       "<table border=\"1\" class=\"dataframe\">\n",
       "  <thead>\n",
       "    <tr style=\"text-align: right;\">\n",
       "      <th></th>\n",
       "      <th>orderid</th>\n",
       "      <th>bikeid</th>\n",
       "      <th>userid</th>\n",
       "      <th>start_time</th>\n",
       "      <th>start_location_x</th>\n",
       "      <th>start_location_y</th>\n",
       "      <th>end_time</th>\n",
       "      <th>end_location_x</th>\n",
       "      <th>end_location_y</th>\n",
       "      <th>track</th>\n",
       "      <th>ride_duration</th>\n",
       "      <th>ride_distance</th>\n",
       "      <th>speed</th>\n",
       "    </tr>\n",
       "  </thead>\n",
       "  <tbody>\n",
       "    <tr>\n",
       "      <th>79854</th>\n",
       "      <td>717149</td>\n",
       "      <td>293101</td>\n",
       "      <td>1848</td>\n",
       "      <td>2016-08-29 16:54</td>\n",
       "      <td>121.479</td>\n",
       "      <td>31.337</td>\n",
       "      <td>2016-08-30 11:29</td>\n",
       "      <td>120.487</td>\n",
       "      <td>31.477</td>\n",
       "      <td>121.459,31.325#121.459,31.326#121.460,31.325#1...</td>\n",
       "      <td>66900.0</td>\n",
       "      <td>95422.239134</td>\n",
       "      <td>5.134829</td>\n",
       "    </tr>\n",
       "    <tr>\n",
       "      <th>16463</th>\n",
       "      <td>1272182</td>\n",
       "      <td>56406</td>\n",
       "      <td>2189</td>\n",
       "      <td>2016-08-27 17:41</td>\n",
       "      <td>121.432</td>\n",
       "      <td>31.250</td>\n",
       "      <td>2016-08-27 18:26</td>\n",
       "      <td>120.487</td>\n",
       "      <td>31.477</td>\n",
       "      <td>121.420,31.299#121.420,31.300#121.421,31.298#1...</td>\n",
       "      <td>2700.0</td>\n",
       "      <td>93207.714416</td>\n",
       "      <td>124.276953</td>\n",
       "    </tr>\n",
       "    <tr>\n",
       "      <th>97282</th>\n",
       "      <td>147841</td>\n",
       "      <td>213581</td>\n",
       "      <td>14958</td>\n",
       "      <td>2016-08-29 08:16</td>\n",
       "      <td>121.430</td>\n",
       "      <td>31.361</td>\n",
       "      <td>2016-08-29 08:42</td>\n",
       "      <td>120.486</td>\n",
       "      <td>31.477</td>\n",
       "      <td>121.428,31.360#121.429,31.360#121.430,31.361#1...</td>\n",
       "      <td>1560.0</td>\n",
       "      <td>90500.981225</td>\n",
       "      <td>208.848418</td>\n",
       "    </tr>\n",
       "    <tr>\n",
       "      <th>20417</th>\n",
       "      <td>471807</td>\n",
       "      <td>12256</td>\n",
       "      <td>2960</td>\n",
       "      <td>2016-08-04 09:20</td>\n",
       "      <td>121.362</td>\n",
       "      <td>31.258</td>\n",
       "      <td>2016-08-04 09:31</td>\n",
       "      <td>120.487</td>\n",
       "      <td>31.477</td>\n",
       "      <td>121.357,31.242#121.357,31.243#121.358,31.243#1...</td>\n",
       "      <td>660.0</td>\n",
       "      <td>86570.665199</td>\n",
       "      <td>472.203628</td>\n",
       "    </tr>\n",
       "    <tr>\n",
       "      <th>63346</th>\n",
       "      <td>1618308</td>\n",
       "      <td>93387</td>\n",
       "      <td>6254</td>\n",
       "      <td>2016-08-06 19:41</td>\n",
       "      <td>121.500</td>\n",
       "      <td>31.383</td>\n",
       "      <td>2016-08-06 23:40</td>\n",
       "      <td>121.391</td>\n",
       "      <td>31.106</td>\n",
       "      <td>121.456,31.361#121.456,31.362#121.456,31.363#1...</td>\n",
       "      <td>14340.0</td>\n",
       "      <td>32497.369906</td>\n",
       "      <td>8.158336</td>\n",
       "    </tr>\n",
       "    <tr>\n",
       "      <th>29113</th>\n",
       "      <td>1165936</td>\n",
       "      <td>116071</td>\n",
       "      <td>3662</td>\n",
       "      <td>2016-08-29 22:54</td>\n",
       "      <td>121.469</td>\n",
       "      <td>31.243</td>\n",
       "      <td>2016-08-30 00:45</td>\n",
       "      <td>121.413</td>\n",
       "      <td>31.425</td>\n",
       "      <td>121.413,31.424#121.413,31.425#121.414,31.422#1...</td>\n",
       "      <td>6660.0</td>\n",
       "      <td>20924.727497</td>\n",
       "      <td>11.310664</td>\n",
       "    </tr>\n",
       "    <tr>\n",
       "      <th>23351</th>\n",
       "      <td>1205968</td>\n",
       "      <td>98833</td>\n",
       "      <td>7891</td>\n",
       "      <td>2016-08-23 09:55</td>\n",
       "      <td>121.398</td>\n",
       "      <td>31.169</td>\n",
       "      <td>2016-08-23 12:08</td>\n",
       "      <td>121.537</td>\n",
       "      <td>31.295</td>\n",
       "      <td>121.397,31.170#121.398,31.170#121.399,31.170#1...</td>\n",
       "      <td>7980.0</td>\n",
       "      <td>19260.358179</td>\n",
       "      <td>8.688883</td>\n",
       "    </tr>\n",
       "    <tr>\n",
       "      <th>39305</th>\n",
       "      <td>1739280</td>\n",
       "      <td>296928</td>\n",
       "      <td>14455</td>\n",
       "      <td>2016-08-26 17:18</td>\n",
       "      <td>121.499</td>\n",
       "      <td>31.119</td>\n",
       "      <td>2016-08-26 21:55</td>\n",
       "      <td>121.679</td>\n",
       "      <td>31.196</td>\n",
       "      <td>121.499,31.118#121.500,31.119#121.671,31.196#1...</td>\n",
       "      <td>16620.0</td>\n",
       "      <td>19148.681052</td>\n",
       "      <td>4.147729</td>\n",
       "    </tr>\n",
       "    <tr>\n",
       "      <th>99603</th>\n",
       "      <td>1504734</td>\n",
       "      <td>240270</td>\n",
       "      <td>705</td>\n",
       "      <td>2016-08-16 20:01</td>\n",
       "      <td>121.499</td>\n",
       "      <td>31.080</td>\n",
       "      <td>2016-08-16 23:17</td>\n",
       "      <td>121.446</td>\n",
       "      <td>30.914</td>\n",
       "      <td>121.445,30.914#121.446,30.914</td>\n",
       "      <td>11760.0</td>\n",
       "      <td>19137.160402</td>\n",
       "      <td>5.858314</td>\n",
       "    </tr>\n",
       "    <tr>\n",
       "      <th>67092</th>\n",
       "      <td>1069398</td>\n",
       "      <td>162973</td>\n",
       "      <td>10828</td>\n",
       "      <td>2016-08-08 18:03</td>\n",
       "      <td>121.494</td>\n",
       "      <td>31.224</td>\n",
       "      <td>2016-08-08 20:01</td>\n",
       "      <td>121.503</td>\n",
       "      <td>31.394</td>\n",
       "      <td>121.485,31.303#121.485,31.304#121.485,31.305#1...</td>\n",
       "      <td>7080.0</td>\n",
       "      <td>18922.464677</td>\n",
       "      <td>9.621592</td>\n",
       "    </tr>\n",
       "  </tbody>\n",
       "</table>\n",
       "</div>"
      ],
      "text/plain": [
       "       orderid  bikeid  userid        start_time  start_location_x  \\\n",
       "79854   717149  293101    1848  2016-08-29 16:54           121.479   \n",
       "16463  1272182   56406    2189  2016-08-27 17:41           121.432   \n",
       "97282   147841  213581   14958  2016-08-29 08:16           121.430   \n",
       "20417   471807   12256    2960  2016-08-04 09:20           121.362   \n",
       "63346  1618308   93387    6254  2016-08-06 19:41           121.500   \n",
       "29113  1165936  116071    3662  2016-08-29 22:54           121.469   \n",
       "23351  1205968   98833    7891  2016-08-23 09:55           121.398   \n",
       "39305  1739280  296928   14455  2016-08-26 17:18           121.499   \n",
       "99603  1504734  240270     705  2016-08-16 20:01           121.499   \n",
       "67092  1069398  162973   10828  2016-08-08 18:03           121.494   \n",
       "\n",
       "       start_location_y          end_time  end_location_x  end_location_y  \\\n",
       "79854            31.337  2016-08-30 11:29         120.487          31.477   \n",
       "16463            31.250  2016-08-27 18:26         120.487          31.477   \n",
       "97282            31.361  2016-08-29 08:42         120.486          31.477   \n",
       "20417            31.258  2016-08-04 09:31         120.487          31.477   \n",
       "63346            31.383  2016-08-06 23:40         121.391          31.106   \n",
       "29113            31.243  2016-08-30 00:45         121.413          31.425   \n",
       "23351            31.169  2016-08-23 12:08         121.537          31.295   \n",
       "39305            31.119  2016-08-26 21:55         121.679          31.196   \n",
       "99603            31.080  2016-08-16 23:17         121.446          30.914   \n",
       "67092            31.224  2016-08-08 20:01         121.503          31.394   \n",
       "\n",
       "                                                   track  ride_duration  \\\n",
       "79854  121.459,31.325#121.459,31.326#121.460,31.325#1...        66900.0   \n",
       "16463  121.420,31.299#121.420,31.300#121.421,31.298#1...         2700.0   \n",
       "97282  121.428,31.360#121.429,31.360#121.430,31.361#1...         1560.0   \n",
       "20417  121.357,31.242#121.357,31.243#121.358,31.243#1...          660.0   \n",
       "63346  121.456,31.361#121.456,31.362#121.456,31.363#1...        14340.0   \n",
       "29113  121.413,31.424#121.413,31.425#121.414,31.422#1...         6660.0   \n",
       "23351  121.397,31.170#121.398,31.170#121.399,31.170#1...         7980.0   \n",
       "39305  121.499,31.118#121.500,31.119#121.671,31.196#1...        16620.0   \n",
       "99603                      121.445,30.914#121.446,30.914        11760.0   \n",
       "67092  121.485,31.303#121.485,31.304#121.485,31.305#1...         7080.0   \n",
       "\n",
       "       ride_distance       speed  \n",
       "79854   95422.239134    5.134829  \n",
       "16463   93207.714416  124.276953  \n",
       "97282   90500.981225  208.848418  \n",
       "20417   86570.665199  472.203628  \n",
       "63346   32497.369906    8.158336  \n",
       "29113   20924.727497   11.310664  \n",
       "23351   19260.358179    8.688883  \n",
       "39305   19148.681052    4.147729  \n",
       "99603   19137.160402    5.858314  \n",
       "67092   18922.464677    9.621592  "
      ]
     },
     "execution_count": 82,
     "metadata": {},
     "output_type": "execute_result"
    }
   ],
   "source": [
    "mob_clean.nlargest(10, ['ride_distance'])"
   ]
  },
  {
   "cell_type": "code",
   "execution_count": 83,
   "metadata": {
    "collapsed": true
   },
   "outputs": [],
   "source": [
    "## speed\n",
    "mob_clean['speed'] = (mob_clean['ride_distance']/1000)  /  (mob_clean['ride_duration'] / 3600)"
   ]
  },
  {
   "cell_type": "code",
   "execution_count": 84,
   "metadata": {},
   "outputs": [
    {
     "data": {
      "text/html": [
       "<div>\n",
       "<style>\n",
       "    .dataframe thead tr:only-child th {\n",
       "        text-align: right;\n",
       "    }\n",
       "\n",
       "    .dataframe thead th {\n",
       "        text-align: left;\n",
       "    }\n",
       "\n",
       "    .dataframe tbody tr th {\n",
       "        vertical-align: top;\n",
       "    }\n",
       "</style>\n",
       "<table border=\"1\" class=\"dataframe\">\n",
       "  <thead>\n",
       "    <tr style=\"text-align: right;\">\n",
       "      <th></th>\n",
       "      <th>orderid</th>\n",
       "      <th>bikeid</th>\n",
       "      <th>userid</th>\n",
       "      <th>start_time</th>\n",
       "      <th>start_location_x</th>\n",
       "      <th>start_location_y</th>\n",
       "      <th>end_time</th>\n",
       "      <th>end_location_x</th>\n",
       "      <th>end_location_y</th>\n",
       "      <th>track</th>\n",
       "      <th>ride_duration</th>\n",
       "      <th>ride_distance</th>\n",
       "      <th>speed</th>\n",
       "    </tr>\n",
       "  </thead>\n",
       "  <tbody>\n",
       "    <tr>\n",
       "      <th>20417</th>\n",
       "      <td>471807</td>\n",
       "      <td>12256</td>\n",
       "      <td>2960</td>\n",
       "      <td>2016-08-04 09:20</td>\n",
       "      <td>121.362</td>\n",
       "      <td>31.258</td>\n",
       "      <td>2016-08-04 09:31</td>\n",
       "      <td>120.487</td>\n",
       "      <td>31.477</td>\n",
       "      <td>121.357,31.242#121.357,31.243#121.358,31.243#1...</td>\n",
       "      <td>660.0</td>\n",
       "      <td>86570.665199</td>\n",
       "      <td>472.203628</td>\n",
       "    </tr>\n",
       "    <tr>\n",
       "      <th>97282</th>\n",
       "      <td>147841</td>\n",
       "      <td>213581</td>\n",
       "      <td>14958</td>\n",
       "      <td>2016-08-29 08:16</td>\n",
       "      <td>121.430</td>\n",
       "      <td>31.361</td>\n",
       "      <td>2016-08-29 08:42</td>\n",
       "      <td>120.486</td>\n",
       "      <td>31.477</td>\n",
       "      <td>121.428,31.360#121.429,31.360#121.430,31.361#1...</td>\n",
       "      <td>1560.0</td>\n",
       "      <td>90500.981225</td>\n",
       "      <td>208.848418</td>\n",
       "    </tr>\n",
       "    <tr>\n",
       "      <th>16463</th>\n",
       "      <td>1272182</td>\n",
       "      <td>56406</td>\n",
       "      <td>2189</td>\n",
       "      <td>2016-08-27 17:41</td>\n",
       "      <td>121.432</td>\n",
       "      <td>31.250</td>\n",
       "      <td>2016-08-27 18:26</td>\n",
       "      <td>120.487</td>\n",
       "      <td>31.477</td>\n",
       "      <td>121.420,31.299#121.420,31.300#121.421,31.298#1...</td>\n",
       "      <td>2700.0</td>\n",
       "      <td>93207.714416</td>\n",
       "      <td>124.276953</td>\n",
       "    </tr>\n",
       "    <tr>\n",
       "      <th>21201</th>\n",
       "      <td>399670</td>\n",
       "      <td>110519</td>\n",
       "      <td>2389</td>\n",
       "      <td>2016-08-10 16:14</td>\n",
       "      <td>121.449</td>\n",
       "      <td>31.304</td>\n",
       "      <td>2016-08-10 16:23</td>\n",
       "      <td>121.514</td>\n",
       "      <td>31.307</td>\n",
       "      <td>121.445,31.322#121.446,31.320#121.446,31.321#1...</td>\n",
       "      <td>540.0</td>\n",
       "      <td>6184.389389</td>\n",
       "      <td>41.229263</td>\n",
       "    </tr>\n",
       "    <tr>\n",
       "      <th>37535</th>\n",
       "      <td>764490</td>\n",
       "      <td>126016</td>\n",
       "      <td>3066</td>\n",
       "      <td>2016-08-30 09:41</td>\n",
       "      <td>121.451</td>\n",
       "      <td>31.158</td>\n",
       "      <td>2016-08-30 09:43</td>\n",
       "      <td>121.438</td>\n",
       "      <td>31.155</td>\n",
       "      <td>121.438,31.155#121.439,31.155#121.439,31.156#1...</td>\n",
       "      <td>120.0</td>\n",
       "      <td>1281.215413</td>\n",
       "      <td>38.436462</td>\n",
       "    </tr>\n",
       "    <tr>\n",
       "      <th>45978</th>\n",
       "      <td>575984</td>\n",
       "      <td>106162</td>\n",
       "      <td>13781</td>\n",
       "      <td>2016-08-21 10:13</td>\n",
       "      <td>121.494</td>\n",
       "      <td>31.215</td>\n",
       "      <td>2016-08-21 10:21</td>\n",
       "      <td>121.455</td>\n",
       "      <td>31.236</td>\n",
       "      <td>121.458,31.228#121.459,31.226#121.459,31.227#1...</td>\n",
       "      <td>480.0</td>\n",
       "      <td>4382.316846</td>\n",
       "      <td>32.867376</td>\n",
       "    </tr>\n",
       "    <tr>\n",
       "      <th>36216</th>\n",
       "      <td>1071255</td>\n",
       "      <td>9133</td>\n",
       "      <td>6926</td>\n",
       "      <td>2016-08-15 18:04</td>\n",
       "      <td>121.373</td>\n",
       "      <td>31.210</td>\n",
       "      <td>2016-08-15 18:05</td>\n",
       "      <td>121.369</td>\n",
       "      <td>31.207</td>\n",
       "      <td>121.369,31.208#121.370,31.208#121.371,31.208#1...</td>\n",
       "      <td>60.0</td>\n",
       "      <td>505.958478</td>\n",
       "      <td>30.357509</td>\n",
       "    </tr>\n",
       "    <tr>\n",
       "      <th>66719</th>\n",
       "      <td>1074356</td>\n",
       "      <td>181135</td>\n",
       "      <td>12018</td>\n",
       "      <td>2016-08-23 14:34</td>\n",
       "      <td>121.520</td>\n",
       "      <td>31.296</td>\n",
       "      <td>2016-08-23 14:35</td>\n",
       "      <td>121.518</td>\n",
       "      <td>31.292</td>\n",
       "      <td>121.519,31.295#121.520,31.294#121.520,31.295#1...</td>\n",
       "      <td>60.0</td>\n",
       "      <td>483.675838</td>\n",
       "      <td>29.020550</td>\n",
       "    </tr>\n",
       "    <tr>\n",
       "      <th>47925</th>\n",
       "      <td>1108131</td>\n",
       "      <td>51231</td>\n",
       "      <td>5809</td>\n",
       "      <td>2016-08-15 18:15</td>\n",
       "      <td>121.440</td>\n",
       "      <td>31.294</td>\n",
       "      <td>2016-08-15 18:18</td>\n",
       "      <td>121.454</td>\n",
       "      <td>31.289</td>\n",
       "      <td>121.450,31.289#121.450,31.290#121.451,31.289#1...</td>\n",
       "      <td>180.0</td>\n",
       "      <td>1441.788733</td>\n",
       "      <td>28.835775</td>\n",
       "    </tr>\n",
       "    <tr>\n",
       "      <th>31220</th>\n",
       "      <td>972182</td>\n",
       "      <td>113504</td>\n",
       "      <td>7876</td>\n",
       "      <td>2016-08-12 07:05</td>\n",
       "      <td>121.444</td>\n",
       "      <td>31.180</td>\n",
       "      <td>2016-08-12 07:06</td>\n",
       "      <td>121.443</td>\n",
       "      <td>31.184</td>\n",
       "      <td>121.443,31.182#121.443,31.183#121.443,31.184#1...</td>\n",
       "      <td>60.0</td>\n",
       "      <td>454.839261</td>\n",
       "      <td>27.290356</td>\n",
       "    </tr>\n",
       "  </tbody>\n",
       "</table>\n",
       "</div>"
      ],
      "text/plain": [
       "       orderid  bikeid  userid        start_time  start_location_x  \\\n",
       "20417   471807   12256    2960  2016-08-04 09:20           121.362   \n",
       "97282   147841  213581   14958  2016-08-29 08:16           121.430   \n",
       "16463  1272182   56406    2189  2016-08-27 17:41           121.432   \n",
       "21201   399670  110519    2389  2016-08-10 16:14           121.449   \n",
       "37535   764490  126016    3066  2016-08-30 09:41           121.451   \n",
       "45978   575984  106162   13781  2016-08-21 10:13           121.494   \n",
       "36216  1071255    9133    6926  2016-08-15 18:04           121.373   \n",
       "66719  1074356  181135   12018  2016-08-23 14:34           121.520   \n",
       "47925  1108131   51231    5809  2016-08-15 18:15           121.440   \n",
       "31220   972182  113504    7876  2016-08-12 07:05           121.444   \n",
       "\n",
       "       start_location_y          end_time  end_location_x  end_location_y  \\\n",
       "20417            31.258  2016-08-04 09:31         120.487          31.477   \n",
       "97282            31.361  2016-08-29 08:42         120.486          31.477   \n",
       "16463            31.250  2016-08-27 18:26         120.487          31.477   \n",
       "21201            31.304  2016-08-10 16:23         121.514          31.307   \n",
       "37535            31.158  2016-08-30 09:43         121.438          31.155   \n",
       "45978            31.215  2016-08-21 10:21         121.455          31.236   \n",
       "36216            31.210  2016-08-15 18:05         121.369          31.207   \n",
       "66719            31.296  2016-08-23 14:35         121.518          31.292   \n",
       "47925            31.294  2016-08-15 18:18         121.454          31.289   \n",
       "31220            31.180  2016-08-12 07:06         121.443          31.184   \n",
       "\n",
       "                                                   track  ride_duration  \\\n",
       "20417  121.357,31.242#121.357,31.243#121.358,31.243#1...          660.0   \n",
       "97282  121.428,31.360#121.429,31.360#121.430,31.361#1...         1560.0   \n",
       "16463  121.420,31.299#121.420,31.300#121.421,31.298#1...         2700.0   \n",
       "21201  121.445,31.322#121.446,31.320#121.446,31.321#1...          540.0   \n",
       "37535  121.438,31.155#121.439,31.155#121.439,31.156#1...          120.0   \n",
       "45978  121.458,31.228#121.459,31.226#121.459,31.227#1...          480.0   \n",
       "36216  121.369,31.208#121.370,31.208#121.371,31.208#1...           60.0   \n",
       "66719  121.519,31.295#121.520,31.294#121.520,31.295#1...           60.0   \n",
       "47925  121.450,31.289#121.450,31.290#121.451,31.289#1...          180.0   \n",
       "31220  121.443,31.182#121.443,31.183#121.443,31.184#1...           60.0   \n",
       "\n",
       "       ride_distance       speed  \n",
       "20417   86570.665199  472.203628  \n",
       "97282   90500.981225  208.848418  \n",
       "16463   93207.714416  124.276953  \n",
       "21201    6184.389389   41.229263  \n",
       "37535    1281.215413   38.436462  \n",
       "45978    4382.316846   32.867376  \n",
       "36216     505.958478   30.357509  \n",
       "66719     483.675838   29.020550  \n",
       "47925    1441.788733   28.835775  \n",
       "31220     454.839261   27.290356  "
      ]
     },
     "execution_count": 84,
     "metadata": {},
     "output_type": "execute_result"
    }
   ],
   "source": [
    "mob_clean.nlargest(10, ['speed'])"
   ]
  },
  {
   "cell_type": "code",
   "execution_count": 85,
   "metadata": {},
   "outputs": [
    {
     "data": {
      "text/plain": [
       "42"
      ]
     },
     "execution_count": 85,
     "metadata": {},
     "output_type": "execute_result"
    }
   ],
   "source": [
    "## mobile speed not easy over 20km/h, should be removed\n",
    "len(mob_clean[mob_clean.speed > 20])"
   ]
  },
  {
   "cell_type": "code",
   "execution_count": 86,
   "metadata": {},
   "outputs": [
    {
     "data": {
      "text/plain": [
       "130"
      ]
     },
     "execution_count": 86,
     "metadata": {},
     "output_type": "execute_result"
    }
   ],
   "source": [
    "## but, we should be remove time less < 2m\n",
    "\n",
    "len(mob_clean[mob_clean.ride_duration < 120])"
   ]
  },
  {
   "cell_type": "code",
   "execution_count": 87,
   "metadata": {},
   "outputs": [
    {
     "data": {
      "text/plain": [
       "11547"
      ]
     },
     "execution_count": 87,
     "metadata": {},
     "output_type": "execute_result"
    }
   ],
   "source": [
    "## distance should use more than 500m\n",
    "len(mob_clean[mob_clean.ride_distance <= 500])"
   ]
  },
  {
   "cell_type": "code",
   "execution_count": 88,
   "metadata": {
    "collapsed": true
   },
   "outputs": [],
   "source": [
    "mob_clean2 = mob_clean[mob_clean.ride_distance > 500]"
   ]
  },
  {
   "cell_type": "code",
   "execution_count": 89,
   "metadata": {
    "collapsed": true
   },
   "outputs": [],
   "source": [
    "mob_clean2 = mob_clean2[mob_clean2.ride_duration > 120]"
   ]
  },
  {
   "cell_type": "code",
   "execution_count": 90,
   "metadata": {
    "collapsed": true
   },
   "outputs": [],
   "source": [
    "mob_clean2 = mob_clean2[mob_clean2.speed < 20]"
   ]
  },
  {
   "cell_type": "code",
   "execution_count": 91,
   "metadata": {},
   "outputs": [
    {
     "data": {
      "text/plain": [
       "90792"
      ]
     },
     "execution_count": 91,
     "metadata": {},
     "output_type": "execute_result"
    }
   ],
   "source": [
    "len(mob_clean2)"
   ]
  },
  {
   "cell_type": "code",
   "execution_count": 92,
   "metadata": {},
   "outputs": [
    {
     "name": "stdout",
     "output_type": "stream",
     "text": [
      "<class 'pandas.core.frame.DataFrame'>\n",
      "Int64Index: 90792 entries, 0 to 102360\n",
      "Data columns (total 13 columns):\n",
      "orderid             90792 non-null int64\n",
      "bikeid              90792 non-null int64\n",
      "userid              90792 non-null int64\n",
      "start_time          90792 non-null object\n",
      "start_location_x    90792 non-null float64\n",
      "start_location_y    90792 non-null float64\n",
      "end_time            90792 non-null object\n",
      "end_location_x      90792 non-null float64\n",
      "end_location_y      90792 non-null float64\n",
      "track               90792 non-null object\n",
      "ride_duration       90792 non-null float64\n",
      "ride_distance       90792 non-null float64\n",
      "speed               90792 non-null float64\n",
      "dtypes: float64(7), int64(3), object(3)\n",
      "memory usage: 9.7+ MB\n"
     ]
    }
   ],
   "source": [
    "mob_clean2.info()"
   ]
  },
  {
   "cell_type": "code",
   "execution_count": 93,
   "metadata": {},
   "outputs": [],
   "source": [
    "## Don't know how to use seperate map data, remove first\n",
    "\n",
    "#mob_clean2.drop('track', axis=1)"
   ]
  },
  {
   "cell_type": "code",
   "execution_count": 94,
   "metadata": {},
   "outputs": [
    {
     "name": "stdout",
     "output_type": "stream",
     "text": [
      "<class 'pandas.core.frame.DataFrame'>\n",
      "Int64Index: 90792 entries, 0 to 102360\n",
      "Data columns (total 13 columns):\n",
      "orderid             90792 non-null int64\n",
      "bikeid              90792 non-null int64\n",
      "userid              90792 non-null int64\n",
      "start_time          90792 non-null object\n",
      "start_location_x    90792 non-null float64\n",
      "start_location_y    90792 non-null float64\n",
      "end_time            90792 non-null object\n",
      "end_location_x      90792 non-null float64\n",
      "end_location_y      90792 non-null float64\n",
      "track               90792 non-null object\n",
      "ride_duration       90792 non-null float64\n",
      "ride_distance       90792 non-null float64\n",
      "speed               90792 non-null float64\n",
      "dtypes: float64(7), int64(3), object(3)\n",
      "memory usage: 9.7+ MB\n"
     ]
    }
   ],
   "source": [
    "mob_clean2.info()"
   ]
  },
  {
   "cell_type": "code",
   "execution_count": 95,
   "metadata": {
    "collapsed": true
   },
   "outputs": [],
   "source": [
    "## Save data\n",
    "\n",
    "mob_clean2.to_csv('../../../Tableau/mobike_clean.csv', index=False)"
   ]
  },
  {
   "cell_type": "code",
   "execution_count": null,
   "metadata": {
    "collapsed": true
   },
   "outputs": [],
   "source": []
  }
 ],
 "metadata": {
  "kernelspec": {
   "display_name": "Python 3",
   "language": "python",
   "name": "python3"
  },
  "language_info": {
   "codemirror_mode": {
    "name": "ipython",
    "version": 3
   },
   "file_extension": ".py",
   "mimetype": "text/x-python",
   "name": "python",
   "nbconvert_exporter": "python",
   "pygments_lexer": "ipython3",
   "version": "3.6.2"
  }
 },
 "nbformat": 4,
 "nbformat_minor": 2
}
